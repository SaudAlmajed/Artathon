{
 "cells": [
  {
   "cell_type": "code",
   "execution_count": 8,
   "metadata": {},
   "outputs": [
    {
     "name": "stdout",
     "output_type": "stream",
     "text": [
      "xcrun: error: invalid active developer path (/Library/Developer/CommandLineTools), missing xcrun at: /Library/Developer/CommandLineTools/usr/bin/xcrun\n",
      "[Errno 2] No such file or directory: 'neural-style-pt'\n",
      "/Users/saudalmajed/Desktop/Artathon\n",
      "xcrun: error: invalid active developer path (/Library/Developer/CommandLineTools), missing xcrun at: /Library/Developer/CommandLineTools/usr/bin/xcrun\n",
      "Collecting ninja\n",
      "  Using cached ninja-1.9.0.post1.tar.gz (25 kB)\n",
      "\u001b[31m    ERROR: Command errored out with exit status 1:\n",
      "     command: /Users/saudalmajed/anaconda3/bin/python -c 'import sys, setuptools, tokenize; sys.argv[0] = '\"'\"'/private/var/folders/0z/qtw3mzsj7jzgd1fp9vr8jbfr0000gn/T/pip-install-y6hpgld7/ninja/setup.py'\"'\"'; __file__='\"'\"'/private/var/folders/0z/qtw3mzsj7jzgd1fp9vr8jbfr0000gn/T/pip-install-y6hpgld7/ninja/setup.py'\"'\"';f=getattr(tokenize, '\"'\"'open'\"'\"', open)(__file__);code=f.read().replace('\"'\"'\\r\\n'\"'\"', '\"'\"'\\n'\"'\"');f.close();exec(compile(code, __file__, '\"'\"'exec'\"'\"'))' egg_info --egg-base /private/var/folders/0z/qtw3mzsj7jzgd1fp9vr8jbfr0000gn/T/pip-install-y6hpgld7/ninja/pip-egg-info\n",
      "         cwd: /private/var/folders/0z/qtw3mzsj7jzgd1fp9vr8jbfr0000gn/T/pip-install-y6hpgld7/ninja/\n",
      "    Complete output (5 lines):\n",
      "    Traceback (most recent call last):\n",
      "      File \"<string>\", line 1, in <module>\n",
      "      File \"/private/var/folders/0z/qtw3mzsj7jzgd1fp9vr8jbfr0000gn/T/pip-install-y6hpgld7/ninja/setup.py\", line 7, in <module>\n",
      "        from skbuild import setup\n",
      "    ModuleNotFoundError: No module named 'skbuild'\n",
      "    ----------------------------------------\u001b[0m\n",
      "\u001b[31mERROR: Command errored out with exit status 1: python setup.py egg_info Check the logs for full command output.\u001b[0m\n",
      "python: can't open file 'models/download_models.py': [Errno 2] No such file or directory\n"
     ]
    }
   ],
   "source": [
    "!git clone https://www.github.com/genekogan/neural-style-pt\n",
    "%cd neural-style-pt\n",
    "!git checkout modular\n",
    "!pip install ninja\n",
    "!python models/download_models.py"
   ]
  },
  {
   "cell_type": "code",
   "execution_count": 9,
   "metadata": {},
   "outputs": [
    {
     "ename": "ModuleNotFoundError",
     "evalue": "No module named 'model'",
     "output_type": "error",
     "traceback": [
      "\u001b[0;31m---------------------------------------------------------------------------\u001b[0m",
      "\u001b[0;31mModuleNotFoundError\u001b[0m                       Traceback (most recent call last)",
      "\u001b[0;32m<ipython-input-9-93461004c8ed>\u001b[0m in \u001b[0;36m<module>\u001b[0;34m()\u001b[0m\n\u001b[0;32m----> 1\u001b[0;31m \u001b[0;32mfrom\u001b[0m \u001b[0mmodel\u001b[0m \u001b[0;32mimport\u001b[0m \u001b[0;34m*\u001b[0m\u001b[0;34m\u001b[0m\u001b[0;34m\u001b[0m\u001b[0m\n\u001b[0m\u001b[1;32m      2\u001b[0m \u001b[0;32mfrom\u001b[0m \u001b[0mutils\u001b[0m \u001b[0;32mimport\u001b[0m \u001b[0;34m*\u001b[0m\u001b[0;34m\u001b[0m\u001b[0;34m\u001b[0m\u001b[0m\n\u001b[1;32m      3\u001b[0m \u001b[0;32mimport\u001b[0m \u001b[0mtorch\u001b[0m\u001b[0;34m\u001b[0m\u001b[0;34m\u001b[0m\u001b[0m\n\u001b[1;32m      4\u001b[0m \u001b[0;32mimport\u001b[0m \u001b[0mtorchvision\u001b[0m\u001b[0;34m.\u001b[0m\u001b[0mtransforms\u001b[0m \u001b[0;32mas\u001b[0m \u001b[0mtransforms\u001b[0m\u001b[0;34m\u001b[0m\u001b[0;34m\u001b[0m\u001b[0m\n\u001b[1;32m      5\u001b[0m \u001b[0;32mfrom\u001b[0m \u001b[0mPIL\u001b[0m \u001b[0;32mimport\u001b[0m \u001b[0mImage\u001b[0m\u001b[0;34m\u001b[0m\u001b[0;34m\u001b[0m\u001b[0m\n",
      "\u001b[0;31mModuleNotFoundError\u001b[0m: No module named 'model'"
     ]
    }
   ],
   "source": [
    "from model import *\n",
    "from utils import *\n",
    "import torch\n",
    "import torchvision.transforms as transforms\n",
    "from PIL import Image\n",
    "import requests\n",
    "from io import BytesIO\n",
    "from imageio import imread\n",
    "\n",
    "\n",
    "def optimize(stylenet, img, num_iterations, output_path, original_colors, print_iter=None, save_iter=None):\n",
    "    def iterate():\n",
    "        t[0] += 1\n",
    "    \n",
    "        optimizer.zero_grad()\n",
    "        stylenet(img)\n",
    "        loss = stylenet.get_loss()\n",
    "        loss.backward()\n",
    "        \n",
    "        maybe_print(stylenet, t[0], print_iter, num_iterations, loss)\n",
    "        maybe_save(img, t[0], save_iter, num_iterations, original_colors, output_path)\n",
    "\n",
    "        return loss\n",
    "    \n",
    "    img = nn.Parameter(img.type(stylenet.dtype))\n",
    "    optimizer, loopVal = setup_optimizer(img, stylenet.params, num_iterations)\n",
    "    t = [0]\n",
    "    while t[0] <= loopVal:\n",
    "        optimizer.step(iterate)\n",
    "    \n",
    "    return img\n",
    "\n",
    "\n",
    "def preprocess_from_url(image, image_size, to_normalize=True):\n",
    "    if type(image_size) is not tuple:\n",
    "        image_size = tuple([int((float(image_size) / max(image.size))*x) for x in (image.height, image.width)])\n",
    "    Loader = transforms.Compose([transforms.Resize(image_size), transforms.ToTensor()])\n",
    "    rgb2bgr = transforms.Compose([transforms.Lambda(lambda x: x[torch.LongTensor([2,1,0])])])\n",
    "    if to_normalize:\n",
    "        Normalize = transforms.Compose([transforms.Normalize(mean=[103.939, 116.779, 123.68], std=[1,1,1])])\n",
    "        tensor = Normalize(rgb2bgr(Loader(image) * 256)).unsqueeze(0)\n",
    "    else:\n",
    "        tensor = rgb2bgr(Loader(image)).unsqueeze(0)\n",
    "    return tensor\n",
    "\n",
    "\n",
    "def load_image_url(url, image_size, to_normalize=True):\n",
    "  image = Image.fromarray(imread(url)).convert('RGB')\n",
    "  return preprocess_from_url(image, image_size, to_normalize)\n",
    "\n",
    "\n",
    "# setup stylenet\n",
    "params = StylenetArgs()\n",
    "params.gpu = '0'\n",
    "params.backend = 'cudnn'\n",
    "\n",
    "dtype, multidevice, backward_device = setup_gpu(params)\n",
    "stylenet = StyleNet(params, dtype, multidevice, backward_device)"
   ]
  },
  {
   "cell_type": "code",
   "execution_count": null,
   "metadata": {},
   "outputs": [],
   "source": [
    "content_path = 'https://cdn.britannica.com/79/96379-050-FDCFF8D3/landmark-tower-Markaz-al-Mamlakah-Saudi-Arabia-Riyadh.jpg'\n",
    "style_paths = ['https://i.pinimg.com/236x/77/40/20/774020bd7d17f21a2cb50a3e07f0a1ae.jpg',]\n",
    "\n",
    "num_iterations = 1000\n",
    "output_path = 'out.png'\n",
    "image_size = 720\n",
    "original_colors = 1\n",
    "style_scale = 1.0\n",
    "print_iter = 100\n",
    "save_iter = 100\n",
    "\n",
    "\n",
    "# load content image\n",
    "content_image = load_image_url(content_path, image_size)\n",
    "\n",
    "# load style images\n",
    "style_size = int(image_size * style_scale)\n",
    "style_images = [load_image_url(path, style_size) for path in style_paths]\n",
    "\n",
    "# set hyper-parameters\n",
    "stylenet.set_content_weight(5e0) # the most important \n",
    "stylenet.set_style_weight(1e2) # the most important c\n",
    "\n",
    "stylenet.set_hist_weight(0)\n",
    "stylenet.set_tv_weight(1e-3)\n",
    "stylenet.set_style_statistic('gram')\n",
    "\n",
    "# capture the style and content images\n",
    "stylenet.capture(content_image, style_images)\n",
    "\n",
    "# initialize with a random image\n",
    "img = random_image_like(content_image)\n",
    "\n",
    "# optimize!\n",
    "img = optimize(stylenet, img, num_iterations, output_path, original_colors, print_iter, save_iter)\n",
    "\n",
    "# display\n",
    "deprocess(img)"
   ]
  }
 ],
 "metadata": {
  "kernelspec": {
   "display_name": "Python 3",
   "language": "python",
   "name": "python3"
  },
  "language_info": {
   "codemirror_mode": {
    "name": "ipython",
    "version": 3
   },
   "file_extension": ".py",
   "mimetype": "text/x-python",
   "name": "python",
   "nbconvert_exporter": "python",
   "pygments_lexer": "ipython3",
   "version": "3.6.8"
  }
 },
 "nbformat": 4,
 "nbformat_minor": 2
}
